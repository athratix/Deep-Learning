{
  "nbformat": 4,
  "nbformat_minor": 0,
  "metadata": {
    "colab": {
      "name": "J030_DL_LabTest_1.ipynb",
      "provenance": [],
      "collapsed_sections": [],
      "authorship_tag": "ABX9TyORf2DW1wvwEJ1FqrwhrcT4",
      "include_colab_link": true
    },
    "kernelspec": {
      "name": "python3",
      "display_name": "Python 3"
    },
    "accelerator": "GPU"
  },
  "cells": [
    {
      "cell_type": "markdown",
      "metadata": {
        "id": "view-in-github",
        "colab_type": "text"
      },
      "source": [
        "<a href=\"https://colab.research.google.com/github/riddhi-mehta-1721/DL/blob/master/LabTest/J030_DL_LabTest_1.ipynb\" target=\"_parent\"><img src=\"https://colab.research.google.com/assets/colab-badge.svg\" alt=\"Open In Colab\"/></a>"
      ]
    },
    {
      "cell_type": "code",
      "metadata": {
        "id": "k44r_o4TgOLf",
        "colab_type": "code",
        "colab": {}
      },
      "source": [
        "###### MNIST"
      ],
      "execution_count": 0,
      "outputs": []
    },
    {
      "cell_type": "code",
      "metadata": {
        "id": "rmhqieINfvIw",
        "colab_type": "code",
        "colab": {
          "base_uri": "https://localhost:8080/",
          "height": 81
        },
        "outputId": "66079b6d-f4d1-46e6-a81d-d4fcb07357ed"
      },
      "source": [
        "import numpy as np\n",
        "import keras\n",
        "from keras.datasets import mnist\n",
        "from keras.utils import to_categorical\n",
        "from keras.models import Sequential \n",
        "from keras.layers import Dense\n",
        "from keras import optimizers\n",
        "from keras.preprocessing.image import ImageDataGenerator\n",
        "import matplotlib.pyplot as plt"
      ],
      "execution_count": 1,
      "outputs": [
        {
          "output_type": "stream",
          "text": [
            "Using TensorFlow backend.\n"
          ],
          "name": "stderr"
        },
        {
          "output_type": "display_data",
          "data": {
            "text/html": [
              "<p style=\"color: red;\">\n",
              "The default version of TensorFlow in Colab will soon switch to TensorFlow 2.x.<br>\n",
              "We recommend you <a href=\"https://www.tensorflow.org/guide/migrate\" target=\"_blank\">upgrade</a> now \n",
              "or ensure your notebook will continue to use TensorFlow 1.x via the <code>%tensorflow_version 1.x</code> magic:\n",
              "<a href=\"https://colab.research.google.com/notebooks/tensorflow_version.ipynb\" target=\"_blank\">more info</a>.</p>\n"
            ],
            "text/plain": [
              "<IPython.core.display.HTML object>"
            ]
          },
          "metadata": {
            "tags": []
          }
        }
      ]
    },
    {
      "cell_type": "code",
      "metadata": {
        "id": "_SXUiHl_f7Ri",
        "colab_type": "code",
        "colab": {
          "base_uri": "https://localhost:8080/",
          "height": 52
        },
        "outputId": "c17a34ce-8893-47bf-fe18-54e8b46430d0"
      },
      "source": [
        "(x_train, y_train), (x_test, y_test) = mnist.load_data()"
      ],
      "execution_count": 2,
      "outputs": [
        {
          "output_type": "stream",
          "text": [
            "Downloading data from https://s3.amazonaws.com/img-datasets/mnist.npz\n",
            "11493376/11490434 [==============================] - 1s 0us/step\n"
          ],
          "name": "stdout"
        }
      ]
    },
    {
      "cell_type": "code",
      "metadata": {
        "id": "nYcNlXCEf-a5",
        "colab_type": "code",
        "colab": {}
      },
      "source": [
        "x_train = x_train.reshape((x_train.shape[0], 28*28))\n",
        "x_train = x_train.astype('float32')/255\n",
        "x_test = x_test.reshape((x_test.shape[0], 28*28))\n",
        "x_test = x_test.astype('float32')/255\n",
        "y_train = to_categorical(y_train, 10)\n",
        "y_test = to_categorical(y_test, 10)"
      ],
      "execution_count": 0,
      "outputs": []
    },
    {
      "cell_type": "code",
      "metadata": {
        "id": "DERpDW-PgAuq",
        "colab_type": "code",
        "colab": {
          "base_uri": "https://localhost:8080/",
          "height": 939
        },
        "outputId": "f969e872-8d4b-4e37-ead8-ca540f2ef2ff"
      },
      "source": [
        "model = Sequential()\n",
        "model.add(Dense(units=128, activation='relu', input_shape=(784, )))\n",
        "model.add(Dense(units=64, activation='relu'))\n",
        "model.add(Dense(units=10, activation='softmax'))\n",
        "model.compile(loss='binary_crossentropy', optimizer='adam', metrics=['accuracy'])\n",
        "history = model.fit(x_train, y_train, batch_size=64, nb_epoch=10, verbose=1, validation_data = (x_test, y_test))"
      ],
      "execution_count": 4,
      "outputs": [
        {
          "output_type": "stream",
          "text": [
            "WARNING:tensorflow:From /usr/local/lib/python3.6/dist-packages/keras/backend/tensorflow_backend.py:66: The name tf.get_default_graph is deprecated. Please use tf.compat.v1.get_default_graph instead.\n",
            "\n",
            "WARNING:tensorflow:From /usr/local/lib/python3.6/dist-packages/keras/backend/tensorflow_backend.py:541: The name tf.placeholder is deprecated. Please use tf.compat.v1.placeholder instead.\n",
            "\n",
            "WARNING:tensorflow:From /usr/local/lib/python3.6/dist-packages/keras/backend/tensorflow_backend.py:4432: The name tf.random_uniform is deprecated. Please use tf.random.uniform instead.\n",
            "\n",
            "WARNING:tensorflow:From /usr/local/lib/python3.6/dist-packages/keras/optimizers.py:793: The name tf.train.Optimizer is deprecated. Please use tf.compat.v1.train.Optimizer instead.\n",
            "\n",
            "WARNING:tensorflow:From /usr/local/lib/python3.6/dist-packages/keras/backend/tensorflow_backend.py:3657: The name tf.log is deprecated. Please use tf.math.log instead.\n",
            "\n",
            "WARNING:tensorflow:From /usr/local/lib/python3.6/dist-packages/tensorflow_core/python/ops/nn_impl.py:183: where (from tensorflow.python.ops.array_ops) is deprecated and will be removed in a future version.\n",
            "Instructions for updating:\n",
            "Use tf.where in 2.0, which has the same broadcast rule as np.where\n"
          ],
          "name": "stdout"
        },
        {
          "output_type": "stream",
          "text": [
            "/usr/local/lib/python3.6/dist-packages/ipykernel_launcher.py:6: UserWarning: The `nb_epoch` argument in `fit` has been renamed `epochs`.\n",
            "  \n"
          ],
          "name": "stderr"
        },
        {
          "output_type": "stream",
          "text": [
            "WARNING:tensorflow:From /usr/local/lib/python3.6/dist-packages/keras/backend/tensorflow_backend.py:1033: The name tf.assign_add is deprecated. Please use tf.compat.v1.assign_add instead.\n",
            "\n",
            "WARNING:tensorflow:From /usr/local/lib/python3.6/dist-packages/keras/backend/tensorflow_backend.py:1020: The name tf.assign is deprecated. Please use tf.compat.v1.assign instead.\n",
            "\n",
            "WARNING:tensorflow:From /usr/local/lib/python3.6/dist-packages/keras/backend/tensorflow_backend.py:3005: The name tf.Session is deprecated. Please use tf.compat.v1.Session instead.\n",
            "\n",
            "Train on 60000 samples, validate on 10000 samples\n",
            "Epoch 1/10\n",
            "WARNING:tensorflow:From /usr/local/lib/python3.6/dist-packages/keras/backend/tensorflow_backend.py:190: The name tf.get_default_session is deprecated. Please use tf.compat.v1.get_default_session instead.\n",
            "\n",
            "WARNING:tensorflow:From /usr/local/lib/python3.6/dist-packages/keras/backend/tensorflow_backend.py:197: The name tf.ConfigProto is deprecated. Please use tf.compat.v1.ConfigProto instead.\n",
            "\n",
            "WARNING:tensorflow:From /usr/local/lib/python3.6/dist-packages/keras/backend/tensorflow_backend.py:207: The name tf.global_variables is deprecated. Please use tf.compat.v1.global_variables instead.\n",
            "\n",
            "WARNING:tensorflow:From /usr/local/lib/python3.6/dist-packages/keras/backend/tensorflow_backend.py:216: The name tf.is_variable_initialized is deprecated. Please use tf.compat.v1.is_variable_initialized instead.\n",
            "\n",
            "WARNING:tensorflow:From /usr/local/lib/python3.6/dist-packages/keras/backend/tensorflow_backend.py:223: The name tf.variables_initializer is deprecated. Please use tf.compat.v1.variables_initializer instead.\n",
            "\n",
            "60000/60000 [==============================] - 13s 214us/step - loss: 0.0466 - acc: 0.9843 - val_loss: 0.0239 - val_acc: 0.9919\n",
            "Epoch 2/10\n",
            "60000/60000 [==============================] - 4s 59us/step - loss: 0.0202 - acc: 0.9933 - val_loss: 0.0192 - val_acc: 0.9932\n",
            "Epoch 3/10\n",
            "60000/60000 [==============================] - 4s 59us/step - loss: 0.0142 - acc: 0.9953 - val_loss: 0.0159 - val_acc: 0.9946\n",
            "Epoch 4/10\n",
            "60000/60000 [==============================] - 4s 60us/step - loss: 0.0109 - acc: 0.9964 - val_loss: 0.0135 - val_acc: 0.9953\n",
            "Epoch 5/10\n",
            "60000/60000 [==============================] - 4s 59us/step - loss: 0.0084 - acc: 0.9972 - val_loss: 0.0137 - val_acc: 0.9953\n",
            "Epoch 6/10\n",
            "60000/60000 [==============================] - 4s 59us/step - loss: 0.0076 - acc: 0.9975 - val_loss: 0.0135 - val_acc: 0.9956\n",
            "Epoch 7/10\n",
            "60000/60000 [==============================] - 4s 59us/step - loss: 0.0058 - acc: 0.9980 - val_loss: 0.0153 - val_acc: 0.9951\n",
            "Epoch 8/10\n",
            "60000/60000 [==============================] - 4s 58us/step - loss: 0.0049 - acc: 0.9984 - val_loss: 0.0133 - val_acc: 0.9958\n",
            "Epoch 9/10\n",
            "60000/60000 [==============================] - 3s 58us/step - loss: 0.0046 - acc: 0.9983 - val_loss: 0.0136 - val_acc: 0.9957\n",
            "Epoch 10/10\n",
            "60000/60000 [==============================] - 4s 59us/step - loss: 0.0036 - acc: 0.9987 - val_loss: 0.0127 - val_acc: 0.9960\n"
          ],
          "name": "stdout"
        }
      ]
    },
    {
      "cell_type": "code",
      "metadata": {
        "id": "sBO2zdfpgGl5",
        "colab_type": "code",
        "colab": {
          "base_uri": "https://localhost:8080/",
          "height": 260
        },
        "outputId": "f6ed83a4-1d26-42f0-ce13-f85a13ff16a5"
      },
      "source": [
        "model.summary()"
      ],
      "execution_count": 5,
      "outputs": [
        {
          "output_type": "stream",
          "text": [
            "Model: \"sequential_1\"\n",
            "_________________________________________________________________\n",
            "Layer (type)                 Output Shape              Param #   \n",
            "=================================================================\n",
            "dense_1 (Dense)              (None, 128)               100480    \n",
            "_________________________________________________________________\n",
            "dense_2 (Dense)              (None, 64)                8256      \n",
            "_________________________________________________________________\n",
            "dense_3 (Dense)              (None, 10)                650       \n",
            "=================================================================\n",
            "Total params: 109,386\n",
            "Trainable params: 109,386\n",
            "Non-trainable params: 0\n",
            "_________________________________________________________________\n"
          ],
          "name": "stdout"
        }
      ]
    },
    {
      "cell_type": "code",
      "metadata": {
        "id": "jbDXJWL4gJsX",
        "colab_type": "code",
        "colab": {
          "base_uri": "https://localhost:8080/",
          "height": 573
        },
        "outputId": "483b941f-6b8b-418e-8f6b-7042f2f6db4f"
      },
      "source": [
        "#epoch vs acc\n",
        "plt.plot(history.history['acc'])\n",
        "plt.plot(history.history['val_acc'])\n",
        "plt.title('Model accuracy')\n",
        "plt.ylabel('Accuracy')\n",
        "plt.xlabel('Epoch')\n",
        "plt.legend(['Train', 'Test'], loc='upper left')\n",
        "plt.show()\n",
        "\n",
        "#epoch vs loss\n",
        "plt.plot(history.history['loss'])\n",
        "plt.plot(history.history['val_loss'])\n",
        "plt.title('Model loss')\n",
        "plt.ylabel('Loss')\n",
        "plt.xlabel('Epoch')\n",
        "plt.legend(['Train', 'Test'], loc='upper left')\n",
        "plt.show()"
      ],
      "execution_count": 6,
      "outputs": [
        {
          "output_type": "display_data",
          "data": {
            "image/png": "[encoded data removed]",
            "text/plain": [
              "<Figure size 432x288 with 1 Axes>"
            ]
          },
          "metadata": {
            "tags": []
          }
        },
        {
          "output_type": "display_data",
          "data": {
            "image/png": "[encoded data removed]",
            "text/plain": [
              "<Figure size 432x288 with 1 Axes>"
            ]
          },
          "metadata": {
            "tags": []
          }
        }
      ]
    },
    {
      "cell_type": "code",
      "metadata": {
        "id": "szTbtAn4gLiA",
        "colab_type": "code",
        "colab": {}
      },
      "source": [
        "########## IRIS"
      ],
      "execution_count": 0,
      "outputs": []
    },
    {
      "cell_type": "code",
      "metadata": {
        "id": "2O38lUQygRm4",
        "colab_type": "code",
        "colab": {}
      },
      "source": [
        "from sklearn.datasets import load_iris\n",
        "from sklearn.preprocessing import LabelEncoder\n",
        "from sklearn.pipeline import Pipeline\n",
        "from sklearn.model_selection import train_test_split\n",
        "from sklearn.preprocessing import OneHotEncoder"
      ],
      "execution_count": 0,
      "outputs": []
    },
    {
      "cell_type": "code",
      "metadata": {
        "id": "lEwuiE4KgTF0",
        "colab_type": "code",
        "colab": {}
      },
      "source": [
        "iris = load_iris()\n",
        "x = iris.data\n",
        "y_ = iris.target.reshape(-1,1)"
      ],
      "execution_count": 0,
      "outputs": []
    },
    {
      "cell_type": "code",
      "metadata": {
        "id": "A8nFNvd9gVYR",
        "colab_type": "code",
        "colab": {}
      },
      "source": [
        "encoder = OneHotEncoder(sparse=False)\n",
        "y = encoder.fit_transform(y_)"
      ],
      "execution_count": 0,
      "outputs": []
    },
    {
      "cell_type": "code",
      "metadata": {
        "id": "hf7aQ3sDgXB3",
        "colab_type": "code",
        "colab": {}
      },
      "source": [
        "x_train, x_test, y_train, y_test = train_test_split(x, y, test_size=0.02)"
      ],
      "execution_count": 0,
      "outputs": []
    },
    {
      "cell_type": "code",
      "metadata": {
        "id": "AA9RspUcgZU6",
        "colab_type": "code",
        "colab": {
          "base_uri": "https://localhost:8080/",
          "height": 416
        },
        "outputId": "cca752f1-a253-41d0-9a16-ccab11372fa8"
      },
      "source": [
        "\n",
        "model = Sequential()\n",
        "model.add(Dense(units=128, activation='relu', input_shape=(4, )))\n",
        "model.add(Dense(units=64, activation='relu'))\n",
        "model.add(Dense(units=3, activation='softmax'))\n",
        "model.compile(loss='binary_crossentropy', optimizer='adam', metrics=['accuracy'])\n",
        "history = model.fit(x_train, y_train, batch_size=64, nb_epoch=10, verbose=1, validation_data = (x_test, y_test))"
      ],
      "execution_count": 13,
      "outputs": [
        {
          "output_type": "stream",
          "text": [
            "/usr/local/lib/python3.6/dist-packages/ipykernel_launcher.py:7: UserWarning: The `nb_epoch` argument in `fit` has been renamed `epochs`.\n",
            "  import sys\n"
          ],
          "name": "stderr"
        },
        {
          "output_type": "stream",
          "text": [
            "Train on 147 samples, validate on 3 samples\n",
            "Epoch 1/10\n",
            "147/147 [==============================] - 0s 2ms/step - loss: 1.0464 - acc: 0.5510 - val_loss: 0.4327 - val_acc: 0.7778\n",
            "Epoch 2/10\n",
            "147/147 [==============================] - 0s 134us/step - loss: 0.7444 - acc: 0.5714 - val_loss: 0.4313 - val_acc: 0.8889\n",
            "Epoch 3/10\n",
            "147/147 [==============================] - 0s 146us/step - loss: 0.5841 - acc: 0.7234 - val_loss: 0.5282 - val_acc: 0.6667\n",
            "Epoch 4/10\n",
            "147/147 [==============================] - 0s 117us/step - loss: 0.5482 - acc: 0.6667 - val_loss: 0.6199 - val_acc: 0.6667\n",
            "Epoch 5/10\n",
            "147/147 [==============================] - 0s 109us/step - loss: 0.5575 - acc: 0.6621 - val_loss: 0.6228 - val_acc: 0.6667\n",
            "Epoch 6/10\n",
            "147/147 [==============================] - 0s 99us/step - loss: 0.5490 - acc: 0.6825 - val_loss: 0.5658 - val_acc: 0.7778\n",
            "Epoch 7/10\n",
            "147/147 [==============================] - 0s 112us/step - loss: 0.5260 - acc: 0.7642 - val_loss: 0.4936 - val_acc: 0.7778\n",
            "Epoch 8/10\n",
            "147/147 [==============================] - 0s 124us/step - loss: 0.5078 - acc: 0.6939 - val_loss: 0.4185 - val_acc: 0.7778\n",
            "Epoch 9/10\n",
            "147/147 [==============================] - 0s 170us/step - loss: 0.4870 - acc: 0.7211 - val_loss: 0.3657 - val_acc: 1.0000\n",
            "Epoch 10/10\n",
            "147/147 [==============================] - 0s 154us/step - loss: 0.4617 - acc: 0.8503 - val_loss: 0.3459 - val_acc: 1.0000\n"
          ],
          "name": "stdout"
        }
      ]
    },
    {
      "cell_type": "code",
      "metadata": {
        "id": "JL95mIxKga16",
        "colab_type": "code",
        "colab": {
          "base_uri": "https://localhost:8080/",
          "height": 260
        },
        "outputId": "745f7693-f9c7-4f26-e6f2-86fa5e87db77"
      },
      "source": [
        "model.summary()"
      ],
      "execution_count": 14,
      "outputs": [
        {
          "output_type": "stream",
          "text": [
            "Model: \"sequential_2\"\n",
            "_________________________________________________________________\n",
            "Layer (type)                 Output Shape              Param #   \n",
            "=================================================================\n",
            "dense_4 (Dense)              (None, 128)               640       \n",
            "_________________________________________________________________\n",
            "dense_5 (Dense)              (None, 64)                8256      \n",
            "_________________________________________________________________\n",
            "dense_6 (Dense)              (None, 3)                 195       \n",
            "=================================================================\n",
            "Total params: 9,091\n",
            "Trainable params: 9,091\n",
            "Non-trainable params: 0\n",
            "_________________________________________________________________\n"
          ],
          "name": "stdout"
        }
      ]
    },
    {
      "cell_type": "code",
      "metadata": {
        "id": "QJdbGuiugdZQ",
        "colab_type": "code",
        "colab": {
          "base_uri": "https://localhost:8080/",
          "height": 573
        },
        "outputId": "29957820-cd2f-4a36-8cd5-6530197c97fe"
      },
      "source": [
        "#epoch vs acc\n",
        "plt.plot(history.history['acc'])\n",
        "plt.plot(history.history['val_acc'])\n",
        "plt.title('Model accuracy')\n",
        "plt.ylabel('Accuracy')\n",
        "plt.xlabel('Epoch')\n",
        "plt.legend(['Train', 'Test'], loc='upper left')\n",
        "plt.show()\n",
        "\n",
        "#epoch vs loss\n",
        "plt.plot(history.history['loss'])\n",
        "plt.plot(history.history['val_loss'])\n",
        "plt.title('Model loss')\n",
        "plt.ylabel('Loss')\n",
        "plt.xlabel('Epoch')\n",
        "plt.legend(['Train', 'Test'], loc='upper left')\n",
        "plt.show()"
      ],
      "execution_count": 15,
      "outputs": [
        {
          "output_type": "display_data",
          "data": {
            "image/png": "[encoded data removed]",
            "text/plain": [
              "<Figure size 432x288 with 1 Axes>"
            ]
          },
          "metadata": {
            "tags": []
          }
        },
        {
          "output_type": "display_data",
          "data": {
            "image/png": "[encoded data removed]",
            "text/plain": [
              "<Figure size 432x288 with 1 Axes>"
            ]
          },
          "metadata": {
            "tags": []
          }
        }
      ]
    },
    {
      "cell_type": "code",
      "metadata": {
        "id": "he6QbNpugj9W",
        "colab_type": "code",
        "colab": {}
      },
      "source": [
        "################ FASHION MNIST"
      ],
      "execution_count": 0,
      "outputs": []
    },
    {
      "cell_type": "code",
      "metadata": {
        "id": "QKNG75qSgnnF",
        "colab_type": "code",
        "colab": {
          "base_uri": "https://localhost:8080/",
          "height": 156
        },
        "outputId": "87131ec8-7d15-46bd-ebc3-7310f504dcb9"
      },
      "source": [
        "from keras.datasets import fashion_mnist\n",
        "from keras.preprocessing.image import ImageDataGenerator\n",
        "(x_train, y_train), (x_test, y_test) = fashion_mnist.load_data()"
      ],
      "execution_count": 17,
      "outputs": [
        {
          "output_type": "stream",
          "text": [
            "Downloading data from http://fashion-mnist.s3-website.eu-central-1.amazonaws.com/train-labels-idx1-ubyte.gz\n",
            "32768/29515 [=================================] - 0s 5us/step\n",
            "Downloading data from http://fashion-mnist.s3-website.eu-central-1.amazonaws.com/train-images-idx3-ubyte.gz\n",
            "26427392/26421880 [==============================] - 2s 0us/step\n",
            "Downloading data from http://fashion-mnist.s3-website.eu-central-1.amazonaws.com/t10k-labels-idx1-ubyte.gz\n",
            "8192/5148 [===============================================] - 0s 0us/step\n",
            "Downloading data from http://fashion-mnist.s3-website.eu-central-1.amazonaws.com/t10k-images-idx3-ubyte.gz\n",
            "4423680/4422102 [==============================] - 1s 0us/step\n"
          ],
          "name": "stdout"
        }
      ]
    },
    {
      "cell_type": "code",
      "metadata": {
        "id": "s-4irxN9gpNW",
        "colab_type": "code",
        "colab": {
          "base_uri": "https://localhost:8080/",
          "height": 35
        },
        "outputId": "6d842a5c-6f55-46f2-a6e5-e88a36d8a661"
      },
      "source": [
        "x_train.shape \n",
        "y_train.shape"
      ],
      "execution_count": 18,
      "outputs": [
        {
          "output_type": "execute_result",
          "data": {
            "text/plain": [
              "(60000,)"
            ]
          },
          "metadata": {
            "tags": []
          },
          "execution_count": 18
        }
      ]
    },
    {
      "cell_type": "code",
      "metadata": {
        "id": "PE5nBkLSgqj8",
        "colab_type": "code",
        "colab": {}
      },
      "source": [
        "x_train = x_train.reshape((x_train.shape[0], 28*28))\n",
        "x_train = x_train.astype('float32')/255\n",
        "x_test = x_test.reshape((x_test.shape[0], 28*28))\n",
        "x_test = x_test.astype('float32')/255\n",
        "y_train = to_categorical(y_train, 10)\n",
        "y_test = to_categorical(y_test, 10)"
      ],
      "execution_count": 0,
      "outputs": []
    },
    {
      "cell_type": "code",
      "metadata": {
        "id": "3Nzz2V_fgr4M",
        "colab_type": "code",
        "colab": {
          "base_uri": "https://localhost:8080/",
          "height": 763
        },
        "outputId": "fc13b5b3-9f23-4a05-fe58-bea31de8bdef"
      },
      "source": [
        "model = Sequential()\n",
        "model.add(Dense(units=128, activation='relu', input_shape=(784, )))\n",
        "model.add(Dense(units=128, activation='relu'))\n",
        "model.add(Dense(units=64, activation='relu'))\n",
        "model.add(Dense(units=64, activation='relu'))\n",
        "model.add(Dense(units=10, activation='softmax'))\n",
        "model.compile(loss='binary_crossentropy', optimizer='adam', metrics=['accuracy'])\n",
        "history = model.fit(x_train, y_train, batch_size=64, nb_epoch=20, verbose=1, validation_data = (x_test, y_test))"
      ],
      "execution_count": 20,
      "outputs": [
        {
          "output_type": "stream",
          "text": [
            "/usr/local/lib/python3.6/dist-packages/ipykernel_launcher.py:8: UserWarning: The `nb_epoch` argument in `fit` has been renamed `epochs`.\n",
            "  \n"
          ],
          "name": "stderr"
        },
        {
          "output_type": "stream",
          "text": [
            "Train on 60000 samples, validate on 10000 samples\n",
            "Epoch 1/20\n",
            "60000/60000 [==============================] - 5s 79us/step - loss: 0.0891 - acc: 0.9643 - val_loss: 0.0747 - val_acc: 0.9702\n",
            "Epoch 2/20\n",
            "60000/60000 [==============================] - 4s 71us/step - loss: 0.0657 - acc: 0.9736 - val_loss: 0.0693 - val_acc: 0.9727\n",
            "Epoch 3/20\n",
            "60000/60000 [==============================] - 4s 71us/step - loss: 0.0599 - acc: 0.9759 - val_loss: 0.0672 - val_acc: 0.9728\n",
            "Epoch 4/20\n",
            "60000/60000 [==============================] - 4s 71us/step - loss: 0.0558 - acc: 0.9776 - val_loss: 0.0643 - val_acc: 0.9753\n",
            "Epoch 5/20\n",
            "60000/60000 [==============================] - 4s 71us/step - loss: 0.0531 - acc: 0.9786 - val_loss: 0.0672 - val_acc: 0.9743\n",
            "Epoch 6/20\n",
            "60000/60000 [==============================] - 4s 72us/step - loss: 0.0511 - acc: 0.9794 - val_loss: 0.0633 - val_acc: 0.9761\n",
            "Epoch 7/20\n",
            "60000/60000 [==============================] - 4s 73us/step - loss: 0.0488 - acc: 0.9806 - val_loss: 0.0604 - val_acc: 0.9761\n",
            "Epoch 8/20\n",
            "60000/60000 [==============================] - 4s 71us/step - loss: 0.0474 - acc: 0.9808 - val_loss: 0.0584 - val_acc: 0.9770\n",
            "Epoch 9/20\n",
            "60000/60000 [==============================] - 4s 69us/step - loss: 0.0459 - acc: 0.9813 - val_loss: 0.0585 - val_acc: 0.9771\n",
            "Epoch 10/20\n",
            "60000/60000 [==============================] - 4s 71us/step - loss: 0.0442 - acc: 0.9821 - val_loss: 0.0581 - val_acc: 0.9778\n",
            "Epoch 11/20\n",
            "60000/60000 [==============================] - 4s 72us/step - loss: 0.0430 - acc: 0.9826 - val_loss: 0.0599 - val_acc: 0.9773\n",
            "Epoch 12/20\n",
            "60000/60000 [==============================] - 4s 71us/step - loss: 0.0418 - acc: 0.9830 - val_loss: 0.0604 - val_acc: 0.9768\n",
            "Epoch 13/20\n",
            "60000/60000 [==============================] - 4s 70us/step - loss: 0.0405 - acc: 0.9836 - val_loss: 0.0652 - val_acc: 0.9767\n",
            "Epoch 14/20\n",
            "60000/60000 [==============================] - 4s 71us/step - loss: 0.0394 - acc: 0.9841 - val_loss: 0.0585 - val_acc: 0.9781\n",
            "Epoch 15/20\n",
            "60000/60000 [==============================] - 4s 70us/step - loss: 0.0383 - acc: 0.9847 - val_loss: 0.0605 - val_acc: 0.9764\n",
            "Epoch 16/20\n",
            "60000/60000 [==============================] - 4s 69us/step - loss: 0.0377 - acc: 0.9850 - val_loss: 0.0580 - val_acc: 0.9783\n",
            "Epoch 17/20\n",
            "60000/60000 [==============================] - 4s 70us/step - loss: 0.0363 - acc: 0.9854 - val_loss: 0.0603 - val_acc: 0.9782\n",
            "Epoch 18/20\n",
            "60000/60000 [==============================] - 4s 72us/step - loss: 0.0359 - acc: 0.9857 - val_loss: 0.0611 - val_acc: 0.9785\n",
            "Epoch 19/20\n",
            "60000/60000 [==============================] - 4s 69us/step - loss: 0.0343 - acc: 0.9862 - val_loss: 0.0592 - val_acc: 0.9790\n",
            "Epoch 20/20\n",
            "60000/60000 [==============================] - 4s 70us/step - loss: 0.0335 - acc: 0.9866 - val_loss: 0.0615 - val_acc: 0.9780\n"
          ],
          "name": "stdout"
        }
      ]
    },
    {
      "cell_type": "code",
      "metadata": {
        "id": "kgs5upK6gtfw",
        "colab_type": "code",
        "colab": {
          "base_uri": "https://localhost:8080/",
          "height": 329
        },
        "outputId": "7a27ef9f-37eb-45ac-c7ab-80df8ef4d85e"
      },
      "source": [
        "model.summary()"
      ],
      "execution_count": 21,
      "outputs": [
        {
          "output_type": "stream",
          "text": [
            "Model: \"sequential_3\"\n",
            "_________________________________________________________________\n",
            "Layer (type)                 Output Shape              Param #   \n",
            "=================================================================\n",
            "dense_7 (Dense)              (None, 128)               100480    \n",
            "_________________________________________________________________\n",
            "dense_8 (Dense)              (None, 128)               16512     \n",
            "_________________________________________________________________\n",
            "dense_9 (Dense)              (None, 64)                8256      \n",
            "_________________________________________________________________\n",
            "dense_10 (Dense)             (None, 64)                4160      \n",
            "_________________________________________________________________\n",
            "dense_11 (Dense)             (None, 10)                650       \n",
            "=================================================================\n",
            "Total params: 130,058\n",
            "Trainable params: 130,058\n",
            "Non-trainable params: 0\n",
            "_________________________________________________________________\n"
          ],
          "name": "stdout"
        }
      ]
    },
    {
      "cell_type": "code",
      "metadata": {
        "id": "fODfJN4Mgvgm",
        "colab_type": "code",
        "colab": {
          "base_uri": "https://localhost:8080/",
          "height": 573
        },
        "outputId": "be646f28-4403-4855-d857-8ffbc608391b"
      },
      "source": [
        "#epoch vs acc\n",
        "plt.plot(history.history['acc'])\n",
        "plt.plot(history.history['val_acc'])\n",
        "plt.title('Model accuracy')\n",
        "plt.ylabel('Accuracy')\n",
        "plt.xlabel('Epoch')\n",
        "plt.legend(['Train', 'Test'], loc='upper left')\n",
        "plt.show()\n",
        "\n",
        "#epoch vs loss\n",
        "plt.plot(history.history['loss'])\n",
        "plt.plot(history.history['val_loss'])\n",
        "plt.title('Model loss')\n",
        "plt.ylabel('Loss')\n",
        "plt.xlabel('Epoch')\n",
        "plt.legend(['Train', 'Test'], loc='upper left')\n",
        "plt.show()"
      ],
      "execution_count": 22,
      "outputs": [
        {
          "output_type": "display_data",
          "data": {
            "image/png": "[encoded data removed]",
            "text/plain": [
              "<Figure size 432x288 with 1 Axes>"
            ]
          },
          "metadata": {
            "tags": []
          }
        },
        {
          "output_type": "display_data",
          "data": {
            "image/png": "[encoded data removed]",
            "text/plain": [
              "<Figure size 432x288 with 1 Axes>"
            ]
          },
          "metadata": {
            "tags": []
          }
        }
      ]
    },
    {
      "cell_type": "code",
      "metadata": {
        "id": "LRihUrJ0gxOc",
        "colab_type": "code",
        "colab": {}
      },
      "source": [
        "################### END"
      ],
      "execution_count": 0,
      "outputs": []
    },
    {
      "cell_type": "code",
      "metadata": {
        "id": "BpRId4Q2gzd8",
        "colab_type": "code",
        "colab": {}
      },
      "source": [
        ""
      ],
      "execution_count": 0,
      "outputs": []
    }
  ]
}